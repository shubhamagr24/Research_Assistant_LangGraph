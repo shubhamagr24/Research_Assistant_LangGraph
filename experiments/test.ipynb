{
 "cells": [
  {
   "cell_type": "code",
   "execution_count": 4,
   "id": "0e61d881",
   "metadata": {},
   "outputs": [],
   "source": [
    "import langgraph\n",
    "from langgraph.graph import StateGraph"
   ]
  },
  {
   "cell_type": "code",
   "execution_count": 2,
   "id": "3146f2dc",
   "metadata": {},
   "outputs": [],
   "source": [
    "from langchain_openai import ChatOpenAI\n",
    "\n",
    "llm=ChatOpenAI(\n",
    "    model=\"gpt-4o\",\n",
    "    temperature=0.0)"
   ]
  },
  {
   "cell_type": "code",
   "execution_count": 53,
   "id": "89d68c91",
   "metadata": {},
   "outputs": [],
   "source": [
    "# Creating structure and analyst ebntity who will be responsible the discuss topic with expert\n",
    "\n",
    "\n",
    "from pydantic import BaseModel, Field\n",
    "from typing import List\n",
    "\n",
    "class Analyst(BaseModel):\n",
    "    affiliation: str = Field(\n",
    "        description=\"Primary affiliation of the analyst.\",\n",
    "    )\n",
    "    name: str = Field(\n",
    "        description=\"Name of the analyst.\"\n",
    "    )\n",
    "    role: str = Field(\n",
    "        description=\"Role of the analyst in the context of the topic.\",\n",
    "    )\n",
    "    description: str = Field(\n",
    "        description=\"Description of the analyst focus, concerns, and motives.\",\n",
    "    )\n",
    "    question_style: str = Field(description=\"How this analyst typically frames questions\")\n",
    "    \n",
    "    @property\n",
    "    def persona(self) -> str:\n",
    "        return f\"Name: {self.name}\\nRole: {self.role}\\nAffiliation: {self.affiliation}\\nDescription: {self.description}\\n question_style: {self.question_style}\"\n",
    "    \n",
    "\n",
    "\n",
    "\n",
    " "
   ]
  },
  {
   "cell_type": "code",
   "execution_count": 54,
   "id": "ae97d0e3",
   "metadata": {},
   "outputs": [],
   "source": [
    "# creating list of analyst dtructure whic will be used for strucuted opout from llm for creating our grou of different analyst\n",
    "\n",
    "class Perspectives(BaseModel):\n",
    "    analysts: List[Analyst] = Field(\n",
    "        description=\"Comprehensive list of analysts with their roles and affiliations.\",\n",
    "    )"
   ]
  },
  {
   "cell_type": "code",
   "execution_count": 55,
   "id": "f2d58dd3",
   "metadata": {},
   "outputs": [],
   "source": [
    "#state that will be used to by graph to use llm to generate analysts based on the topic and human feedback\n",
    "from typing import TypedDict\n",
    "from typing import List\n",
    "\n",
    "class GenerateAnalystsState(TypedDict):\n",
    "    topic: str # Research topic\n",
    "    max_analysts: int # Number of analysts\n",
    "    human_analyst_feedback: str # Human feedback\n",
    "    analysts: List[Analyst] # Analyst asking questions"
   ]
  },
  {
   "cell_type": "code",
   "execution_count": 56,
   "id": "b15d295c",
   "metadata": {},
   "outputs": [],
   "source": [
    "from IPython.display import Image, display\n",
    "from langgraph.graph import START, END, StateGraph\n",
    "from langgraph.checkpoint.memory import MemorySaver\n",
    "from langchain_core.messages import AIMessage, HumanMessage, SystemMessage\n",
    "\n",
    "analyst_instructions=\"\"\"You are tasked with creating a set of AI analyst personas. Follow these instructions carefully:\n",
    "\n",
    "1. First, review the research topic:\n",
    "{topic}\n",
    "        \n",
    "2. Examine any editorial feedback that has been optionally provided to guide creation of the analysts: \n",
    "        \n",
    "{human_analyst_feedback}\n",
    "    \n",
    "3. Determine the most interesting themes based upon documents and / or feedback above.\n",
    "                    \n",
    "4. Pick the top {max_analysts} themes.\n",
    "\n",
    "5. Assign one analyst to each theme.\"\"\""
   ]
  },
  {
   "cell_type": "code",
   "execution_count": 100,
   "id": "36310ffa",
   "metadata": {},
   "outputs": [
    {
     "data": {
      "text/plain": [
       "<langgraph.graph.state.StateGraph object at 0x108843890>"
      ]
     },
     "execution_count": 100,
     "metadata": {},
     "output_type": "execute_result"
    }
   ],
   "source": [
    "def create_analysts(state: GenerateAnalystsState) -> Perspectives:\n",
    "    \"\"\"\n",
    "    Create a set of analysts based on the research topic and human feedback.\n",
    "    \"\"\"\n",
    "    # Prepare the prompt for the LLM\n",
    "\n",
    "    system_prompt = analyst_instructions.format(\n",
    "        topic=state['topic'],\n",
    "        human_analyst_feedback=state.get('human_analyst_feedback', '') ,\n",
    "        max_analysts=state['max_analysts']\n",
    "    )\n",
    "\n",
    "\n",
    "    # Enforce structured output\n",
    "    structured_llm = llm.with_structured_output(Perspectives)\n",
    "    \n",
    "    # Call the LLM to generate analysts\n",
    "    response = structured_llm.invoke([SystemMessage(content=system_prompt)]+[HumanMessage(content=\"Generate the set of analysts.\")])\n",
    "\n",
    "    \n",
    "    \n",
    "    \n",
    "    return {'analysts':response.analysts}\n",
    "\n",
    "def human_feedback(state: GenerateAnalystsState):\n",
    "    \"Dummy no-op node\"\n",
    "    pass\n",
    "\n",
    "def should_continue(state: GenerateAnalystsState):\n",
    "    \"check if there is any feedback from human\"\n",
    "\n",
    "     # Check if human feedback\n",
    "    human_analyst_feedback=state.get('human_analyst_feedback', None)\n",
    "    if human_analyst_feedback:\n",
    "        return \"create_analysts\"\n",
    "    \n",
    "    return END\n",
    "\n",
    "builder = StateGraph(GenerateAnalystsState)\n",
    "\n",
    "builder.add_node(\"create_analysts\",create_analysts)\n",
    "builder.add_node(\"human_feedback\", human_feedback)\n",
    "builder.add_edge(START, \"create_analysts\")\n",
    "builder.add_edge(\"create_analysts\", \"human_feedback\")\n",
    "builder.add_conditional_edges('human_feedback', should_continue,[\"create_analysts\", END])\n",
    "\n"
   ]
  },
  {
   "cell_type": "code",
   "execution_count": 101,
   "id": "9e465c20",
   "metadata": {},
   "outputs": [
    {
     "data": {
      "image/png": "[encoded data removed]",
      "text/plain": [
       "<IPython.core.display.Image object>"
      ]
     },
     "metadata": {},
     "output_type": "display_data"
    }
   ],
   "source": [
    "# Compile\n",
    "memory = MemorySaver()\n",
    "graph = builder.compile(interrupt_before=['human_feedback'], checkpointer=memory)\n",
    "\n",
    "# View\n",
    "display(Image(graph.get_graph(xray=1).draw_mermaid_png()))"
   ]
  },
  {
   "cell_type": "code",
   "execution_count": 102,
   "id": "1b695eb1",
   "metadata": {},
   "outputs": [
    {
     "name": "stdout",
     "output_type": "stream",
     "text": [
      "Name: Dr. Claire Dubois\n",
      "Affiliation: Sorbonne University\n",
      "Role: AI Education Specialist\n",
      "Description: Dr. Dubois focuses on the curriculum and pedagogical approaches of AI master's programs in France. She is particularly interested in how these programs integrate theoretical knowledge with practical skills and industry needs.\n",
      "Question_Style: How do current AI master's programs in France balance theoretical knowledge with practical application?\n",
      "--------------------------------------------------\n",
      "Name: Prof. Jean-Luc Martin\n",
      "Affiliation: INRIA (French Institute for Research in Computer Science and Automation)\n",
      "Role: AI Research and Development Analyst\n",
      "Description: Prof. Martin examines the research output and innovation stemming from AI master's programs in France. He is concerned with how these programs contribute to advancements in AI technology and their impact on global AI research trends.\n",
      "Question_Style: What are the key research contributions from AI master's programs in France to the global AI community?\n",
      "--------------------------------------------------\n",
      "Name: Sophie Leclerc\n",
      "Affiliation: AI France Industry Consortium\n",
      "Role: Industry Liaison\n",
      "Description: Sophie Leclerc bridges the gap between academia and industry, focusing on how AI master's graduates are prepared for the workforce. She evaluates the employability of graduates and the alignment of their skills with industry demands.\n",
      "Question_Style: In what ways do AI master's programs in France prepare students for the current demands of the AI industry?\n",
      "--------------------------------------------------\n"
     ]
    }
   ],
   "source": [
    "# Input\n",
    "max_analysts = 3 \n",
    "topic = \"Studying AI masters in France\"\n",
    "thread = {\"configurable\": {\"thread_id\": \"1\"}}\n",
    "\n",
    "# Run the graph until the first interruption\n",
    "for event in graph.stream({\"topic\":topic,\"max_analysts\":max_analysts,}, thread, stream_mode=\"values\"):\n",
    "    # Review\n",
    "    analysts = event.get('analysts', '')\n",
    "    if analysts:\n",
    "        for analyst in analysts:\n",
    "            print(f\"Name: {analyst.name}\")\n",
    "            print(f\"Affiliation: {analyst.affiliation}\")\n",
    "            print(f\"Role: {analyst.role}\")\n",
    "            print(f\"Description: {analyst.description}\")\n",
    "            print(f\"Question_Style: {analyst.question_style}\")\n",
    "            print(\"-\" * 50)  "
   ]
  },
  {
   "cell_type": "code",
   "execution_count": 103,
   "id": "56090ab4",
   "metadata": {},
   "outputs": [],
   "source": [
    "checkpoints=graph.get_state_history(thread)"
   ]
  },
  {
   "cell_type": "code",
   "execution_count": 104,
   "id": "d4ad079c",
   "metadata": {},
   "outputs": [
    {
     "name": "stdout",
     "output_type": "stream",
     "text": [
      "StateSnapshot(values={'topic': 'Studying AI masters in France', 'max_analysts': 3, 'analysts': [Analyst(affiliation='Sorbonne University', name='Dr. Claire Dubois', role='AI Education Specialist', description=\"Dr. Dubois focuses on the curriculum and pedagogical approaches of AI master's programs in France. She is particularly interested in how these programs integrate theoretical knowledge with practical skills and industry needs.\", question_style=\"How do current AI master's programs in France balance theoretical knowledge with practical application?\"), Analyst(affiliation='INRIA (French Institute for Research in Computer Science and Automation)', name='Prof. Jean-Luc Martin', role='AI Research and Development Analyst', description=\"Prof. Martin examines the research output and innovation stemming from AI master's programs in France. He is concerned with how these programs contribute to advancements in AI technology and their impact on global AI research trends.\", question_style=\"What are the key research contributions from AI master's programs in France to the global AI community?\"), Analyst(affiliation='AI France Industry Consortium', name='Sophie Leclerc', role='Industry Liaison', description=\"Sophie Leclerc bridges the gap between academia and industry, focusing on how AI master's graduates are prepared for the workforce. She evaluates the employability of graduates and the alignment of their skills with industry demands.\", question_style=\"In what ways do AI master's programs in France prepare students for the current demands of the AI industry?\")]}, next=('human_feedback',), config={'configurable': {'thread_id': '1', 'checkpoint_ns': '', 'checkpoint_id': '1f04ec69-b209-6412-8001-542030c70541'}}, metadata={'source': 'loop', 'writes': {'create_analysts': {'analysts': [Analyst(affiliation='Sorbonne University', name='Dr. Claire Dubois', role='AI Education Specialist', description=\"Dr. Dubois focuses on the curriculum and pedagogical approaches of AI master's programs in France. She is particularly interested in how these programs integrate theoretical knowledge with practical skills and industry needs.\", question_style=\"How do current AI master's programs in France balance theoretical knowledge with practical application?\"), Analyst(affiliation='INRIA (French Institute for Research in Computer Science and Automation)', name='Prof. Jean-Luc Martin', role='AI Research and Development Analyst', description=\"Prof. Martin examines the research output and innovation stemming from AI master's programs in France. He is concerned with how these programs contribute to advancements in AI technology and their impact on global AI research trends.\", question_style=\"What are the key research contributions from AI master's programs in France to the global AI community?\"), Analyst(affiliation='AI France Industry Consortium', name='Sophie Leclerc', role='Industry Liaison', description=\"Sophie Leclerc bridges the gap between academia and industry, focusing on how AI master's graduates are prepared for the workforce. She evaluates the employability of graduates and the alignment of their skills with industry demands.\", question_style=\"In what ways do AI master's programs in France prepare students for the current demands of the AI industry?\")]}}, 'step': 1, 'parents': {}, 'thread_id': '1'}, created_at='2025-06-21T17:38:56.157981+00:00', parent_config={'configurable': {'thread_id': '1', 'checkpoint_ns': '', 'checkpoint_id': '1f04ec69-6ace-600c-8000-bbd084c6c06c'}}, tasks=(PregelTask(id='fa1e6a91-1146-9e61-0b1c-fb901acb6765', name='human_feedback', path=('__pregel_pull', 'human_feedback'), error=None, interrupts=(), state=None, result=None),), interrupts=())\n",
      "StateSnapshot(values={'topic': 'Studying AI masters in France', 'max_analysts': 3}, next=('create_analysts',), config={'configurable': {'thread_id': '1', 'checkpoint_ns': '', 'checkpoint_id': '1f04ec69-6ace-600c-8000-bbd084c6c06c'}}, metadata={'source': 'loop', 'writes': None, 'step': 0, 'parents': {}, 'thread_id': '1'}, created_at='2025-06-21T17:38:48.688832+00:00', parent_config={'configurable': {'thread_id': '1', 'checkpoint_ns': '', 'checkpoint_id': '1f04ec69-6a8b-6edc-bfff-471cc9837bb4'}}, tasks=(PregelTask(id='1ea70865-5159-e2cb-bf34-72d60469b806', name='create_analysts', path=('__pregel_pull', 'create_analysts'), error=None, interrupts=(), state=None, result={'analysts': [Analyst(affiliation='Sorbonne University', name='Dr. Claire Dubois', role='AI Education Specialist', description=\"Dr. Dubois focuses on the curriculum and pedagogical approaches of AI master's programs in France. She is particularly interested in how these programs integrate theoretical knowledge with practical skills and industry needs.\", question_style=\"How do current AI master's programs in France balance theoretical knowledge with practical application?\"), Analyst(affiliation='INRIA (French Institute for Research in Computer Science and Automation)', name='Prof. Jean-Luc Martin', role='AI Research and Development Analyst', description=\"Prof. Martin examines the research output and innovation stemming from AI master's programs in France. He is concerned with how these programs contribute to advancements in AI technology and their impact on global AI research trends.\", question_style=\"What are the key research contributions from AI master's programs in France to the global AI community?\"), Analyst(affiliation='AI France Industry Consortium', name='Sophie Leclerc', role='Industry Liaison', description=\"Sophie Leclerc bridges the gap between academia and industry, focusing on how AI master's graduates are prepared for the workforce. She evaluates the employability of graduates and the alignment of their skills with industry demands.\", question_style=\"In what ways do AI master's programs in France prepare students for the current demands of the AI industry?\")]}),), interrupts=())\n",
      "StateSnapshot(values={}, next=('__start__',), config={'configurable': {'thread_id': '1', 'checkpoint_ns': '', 'checkpoint_id': '1f04ec69-6a8b-6edc-bfff-471cc9837bb4'}}, metadata={'source': 'input', 'writes': {'__start__': {'topic': 'Studying AI masters in France', 'max_analysts': 3}}, 'step': -1, 'parents': {}, 'thread_id': '1'}, created_at='2025-06-21T17:38:48.661764+00:00', parent_config=None, tasks=(PregelTask(id='a8dc896c-33b8-a4d1-4fed-0bf24f7ef039', name='__start__', path=('__pregel_pull', '__start__'), error=None, interrupts=(), state=None, result={'topic': 'Studying AI masters in France', 'max_analysts': 3}),), interrupts=())\n"
     ]
    }
   ],
   "source": [
    "for x in checkpoints:\n",
    "    print(x)\n",
    "    "
   ]
  },
  {
   "cell_type": "code",
   "execution_count": 105,
   "id": "277baae3",
   "metadata": {},
   "outputs": [],
   "source": [
    "state=graph.get_state(thread)"
   ]
  },
  {
   "cell_type": "code",
   "execution_count": 106,
   "id": "4ccd00c0",
   "metadata": {},
   "outputs": [
    {
     "data": {
      "text/plain": [
       "('human_feedback',)"
      ]
     },
     "execution_count": 106,
     "metadata": {},
     "output_type": "execute_result"
    }
   ],
   "source": [
    "state.next"
   ]
  },
  {
   "cell_type": "code",
   "execution_count": 107,
   "id": "051231b4",
   "metadata": {},
   "outputs": [
    {
     "data": {
      "text/plain": [
       "{'configurable': {'thread_id': '1', 'checkpoint_ns': '', 'checkpoint_id': '1f04ec6a-1589-6e10-8002-de7e7b20af3a'}}"
      ]
     },
     "execution_count": 107,
     "metadata": {},
     "output_type": "execute_result"
    }
   ],
   "source": [
    "graph.update_state(\n",
    "    thread,\n",
    "    {\n",
    "        \"human_analyst_feedback\": \"The analysts should focus more on the impact of AI on job markets and cost of educations.\"\n",
    "    }\n",
    ")"
   ]
  },
  {
   "cell_type": "code",
   "execution_count": 108,
   "id": "2c7d611b",
   "metadata": {},
   "outputs": [
    {
     "name": "stdout",
     "output_type": "stream",
     "text": [
      "Name: Dr. Claire Dubois\n",
      "Affiliation: Sorbonne University\n",
      "Role: AI Education Specialist\n",
      "Description: Dr. Dubois focuses on the curriculum and pedagogical approaches of AI master's programs in France. She is particularly interested in how these programs integrate theoretical knowledge with practical skills and industry needs.\n",
      "Question_Style: How do current AI master's programs in France balance theoretical knowledge with practical application?\n",
      "--------------------------------------------------\n",
      "Name: Prof. Jean-Luc Martin\n",
      "Affiliation: INRIA (French Institute for Research in Computer Science and Automation)\n",
      "Role: AI Research and Development Analyst\n",
      "Description: Prof. Martin examines the research output and innovation stemming from AI master's programs in France. He is concerned with how these programs contribute to advancements in AI technology and their impact on global AI research trends.\n",
      "Question_Style: What are the key research contributions from AI master's programs in France to the global AI community?\n",
      "--------------------------------------------------\n",
      "Name: Sophie Leclerc\n",
      "Affiliation: AI France Industry Consortium\n",
      "Role: Industry Liaison\n",
      "Description: Sophie Leclerc bridges the gap between academia and industry, focusing on how AI master's graduates are prepared for the workforce. She evaluates the employability of graduates and the alignment of their skills with industry demands.\n",
      "Question_Style: In what ways do AI master's programs in France prepare students for the current demands of the AI industry?\n",
      "--------------------------------------------------\n",
      "Name: Dr. Claire Dubois\n",
      "Affiliation: Université Paris-Saclay\n",
      "Role: Labor Economist\n",
      "Description: Dr. Dubois focuses on the impact of AI on the job market in France, particularly how AI technologies are reshaping employment opportunities and the skills required in various industries. She is concerned with both the potential for job displacement and the creation of new job categories.\n",
      "Question_Style: How will AI integration in industries affect employment rates and job types in France?\n",
      "--------------------------------------------------\n",
      "Name: Prof. Jean-Luc Martin\n",
      "Affiliation: École Polytechnique\n",
      "Role: Education Policy Analyst\n",
      "Description: Prof. Martin examines the cost of AI education in France, analyzing how tuition fees and funding opportunities affect accessibility to AI master's programs. He is interested in the socio-economic barriers that may prevent students from pursuing advanced AI studies.\n",
      "Question_Style: What are the financial barriers to accessing AI education in France, and how can they be mitigated?\n",
      "--------------------------------------------------\n",
      "Name: Dr. Sophie Leclerc\n",
      "Affiliation: INRIA (French Institute for Research in Computer Science and Automation)\n",
      "Role: AI Ethics Researcher\n",
      "Description: Dr. Leclerc explores the ethical implications of AI development and deployment in France. Her focus is on ensuring that AI technologies are developed responsibly, with consideration for privacy, bias, and societal impact.\n",
      "Question_Style: What ethical considerations should be prioritized in the development of AI technologies in France?\n",
      "--------------------------------------------------\n"
     ]
    }
   ],
   "source": [
    "# Continue the graph execution\n",
    "for event in graph.stream(None, thread, stream_mode=\"values\"):\n",
    "    # Review\n",
    "    analysts = event.get('analysts', '')\n",
    "    if analysts:\n",
    "        for analyst in analysts:\n",
    "            print(f\"Name: {analyst.name}\")\n",
    "            print(f\"Affiliation: {analyst.affiliation}\")\n",
    "            print(f\"Role: {analyst.role}\")\n",
    "            print(f\"Description: {analyst.description}\")\n",
    "            print(f\"Question_Style: {analyst.question_style}\")\n",
    "            print(\"-\" * 50) "
   ]
  },
  {
   "cell_type": "code",
   "execution_count": 109,
   "id": "8babfa7e",
   "metadata": {},
   "outputs": [
    {
     "data": {
      "text/plain": [
       "{'configurable': {'thread_id': '1', 'checkpoint_ns': '', 'checkpoint_id': '1f04ec6b-c48d-6ffa-8005-89262fc42861'}}"
      ]
     },
     "execution_count": 109,
     "metadata": {},
     "output_type": "execute_result"
    }
   ],
   "source": [
    "# If we are satisfied, then we simply supply no feedback\n",
    "further_feedack = None\n",
    "graph.update_state(thread, {\"human_analyst_feedback\": \n",
    "                            further_feedack}, as_node=\"human_feedback\")"
   ]
  },
  {
   "cell_type": "code",
   "execution_count": 110,
   "id": "06b56f17",
   "metadata": {},
   "outputs": [],
   "source": [
    "# Continue the graph execution to end\n",
    "for event in graph.stream(None, thread, stream_mode=\"updates\"):\n",
    "    print(\"--Node--\")\n",
    "    node_name = next(iter(event.keys()))\n",
    "    print(node_name)"
   ]
  },
  {
   "cell_type": "code",
   "execution_count": 111,
   "id": "cebc5bb3",
   "metadata": {},
   "outputs": [],
   "source": [
    "final_state = graph.get_state(thread)\n",
    "analysts = final_state.values.get('analysts')"
   ]
  },
  {
   "cell_type": "code",
   "execution_count": 112,
   "id": "72217f69",
   "metadata": {},
   "outputs": [
    {
     "data": {
      "text/plain": [
       "()"
      ]
     },
     "execution_count": 112,
     "metadata": {},
     "output_type": "execute_result"
    }
   ],
   "source": [
    "final_state.next"
   ]
  },
  {
   "cell_type": "code",
   "execution_count": 113,
   "id": "ac74dc89",
   "metadata": {},
   "outputs": [
    {
     "name": "stdout",
     "output_type": "stream",
     "text": [
      "Name: Dr. Claire Dubois\n",
      "Affiliation: Université Paris-Saclay\n",
      "Role: Labor Economist\n",
      "Description: Dr. Dubois focuses on the impact of AI on the job market in France, particularly how AI technologies are reshaping employment opportunities and the skills required in various industries. She is concerned with both the potential for job displacement and the creation of new job categories.\n",
      "Question_Style: How will AI integration in industries affect employment rates and job types in France?\n",
      "--------------------------------------------------\n",
      "Name: Prof. Jean-Luc Martin\n",
      "Affiliation: École Polytechnique\n",
      "Role: Education Policy Analyst\n",
      "Description: Prof. Martin examines the cost of AI education in France, analyzing how tuition fees and funding opportunities affect accessibility to AI master's programs. He is interested in the socio-economic barriers that may prevent students from pursuing advanced AI studies.\n",
      "Question_Style: What are the financial barriers to accessing AI education in France, and how can they be mitigated?\n",
      "--------------------------------------------------\n",
      "Name: Dr. Sophie Leclerc\n",
      "Affiliation: INRIA (French Institute for Research in Computer Science and Automation)\n",
      "Role: AI Ethics Researcher\n",
      "Description: Dr. Leclerc explores the ethical implications of AI development and deployment in France. Her focus is on ensuring that AI technologies are developed responsibly, with consideration for privacy, bias, and societal impact.\n",
      "Question_Style: What ethical considerations should be prioritized in the development of AI technologies in France?\n",
      "--------------------------------------------------\n"
     ]
    }
   ],
   "source": [
    "for analyst in analysts:\n",
    "    print(f\"Name: {analyst.name}\")\n",
    "    print(f\"Affiliation: {analyst.affiliation}\")\n",
    "    print(f\"Role: {analyst.role}\")\n",
    "    print(f\"Description: {analyst.description}\")\n",
    "    print(f\"Question_Style: {analyst.question_style}\")\n",
    "    print(\"-\" * 50) "
   ]
  },
  {
   "cell_type": "code",
   "execution_count": 114,
   "id": "8d88de37",
   "metadata": {},
   "outputs": [],
   "source": [
    "from langchain_community.tools import TavilySearchResults"
   ]
  },
  {
   "cell_type": "code",
   "execution_count": 115,
   "id": "35d78cb9",
   "metadata": {},
   "outputs": [],
   "source": [
    "tavily_search=TavilySearchResults(max_results=3)"
   ]
  },
  {
   "cell_type": "code",
   "execution_count": 116,
   "id": "86ace840",
   "metadata": {},
   "outputs": [],
   "source": [
    "from langchain.document_loaders import WikipediaLoader"
   ]
  },
  {
   "cell_type": "code",
   "execution_count": 121,
   "id": "38719ca3",
   "metadata": {},
   "outputs": [],
   "source": [
    "import operator\n",
    "from typing import  Annotated\n",
    "from langgraph.graph import MessagesState\n",
    "\n",
    "class InterviewState(MessagesState):\n",
    "    max_num_turns: int # Number turns of conversation\n",
    "    context: Annotated[list, operator.add] # Source docs\n",
    "    search_query: str # Search query\n",
    "    analyst: Analyst # Analyst asking questions\n",
    "    interview: str # Interview transcript\n",
    "    sections: list # Final key we duplicate in outer state for Send() API"
   ]
  },
  {
   "cell_type": "code",
   "execution_count": 147,
   "id": "c9383fe4",
   "metadata": {},
   "outputs": [],
   "source": [
    "question_instructions = \"\"\"You are an analyst tasked with interviewing an expert to learn about a specific topic. \n",
    "\n",
    "Your goal is boil down to interesting and specific insights related to your topic.\n",
    "\n",
    "1. Interesting: Insights that people will find surprising or non-obvious.\n",
    "        \n",
    "2. Specific: Insights that avoid generalities and include specific examples from the expert.\n",
    "\n",
    "Here is your topic of focus and set of goals: {goals}\n",
    "        \n",
    "Begin by introducing yourself using a name that fits your persona, and then ask your question.\n",
    "\n",
    "Continue to ask questions to drill down and refine your understanding of the topic.\n",
    "        \n",
    "When you are satisfied with your understanding, complete the interview with: \"Thank you so much for your help!\"\n",
    "\n",
    "Remember to stay in character throughout your response, reflecting the persona and goals provided to you.\"\"\"\n",
    "\n",
    "\n",
    "def generate_question(state: InterviewState):\n",
    "    \"\"\"\n",
    "    Generate questions for the interview based on the analyst's persona and goals.\n",
    "    \"\"\"\n",
    "    # Prepare the prompt for the LLM\n",
    "    system_prompt = question_instructions.format(\n",
    "        goals=state['analyst'].persona\n",
    "    )\n",
    "    \n",
    "    # Call the LLM to generate questions\n",
    "    response = llm.invoke([SystemMessage(content=system_prompt)] + state['messages'])\n",
    "\n",
    "    return {'messages':response}"
   ]
  },
  {
   "cell_type": "code",
   "execution_count": 148,
   "id": "ad50e61f",
   "metadata": {},
   "outputs": [],
   "source": [
    "class SearchQuery(BaseModel):\n",
    "    search_query: str = Field(None, description=\"Search query for retrieval.\")"
   ]
  },
  {
   "cell_type": "code",
   "execution_count": 155,
   "id": "d4aec7dc",
   "metadata": {},
   "outputs": [],
   "source": [
    "\n",
    "\n",
    "# Search query writing\n",
    "search_instructions = SystemMessage(content=f\"\"\"You will be given a conversation between an analyst and an expert. \n",
    "\n",
    "Your goal is to generate a well-structured query for use in retrieval and / or web-search related to the conversation.\n",
    "        \n",
    "First, analyze the full conversation.\n",
    "\n",
    "Pay particular attention to the final question posed by the analyst.\n",
    "\n",
    "Convert this final question into a well-structured web search query\"\"\")\n",
    "\n",
    "def create_search_query(state: InterviewState):\n",
    "    \"\"\"\n",
    "    Generate a search query based on the analyst's persona and the conversation.\n",
    "    \"\"\"\n",
    "    llm_with_structured_output = llm.with_structured_output(SearchQuery)\n",
    "\n",
    "    response = llm_with_structured_output.invoke([search_instructions] + state['messages'])\n",
    "\n",
    "    return {'search_query': response.search_query}\n",
    "\n",
    "\n",
    "\n",
    "def web_search(state:InterviewState):\n",
    "    \"\"\"\n",
    "    Perform a web search to retrieve relevant documents based on the analyst's persona and goals.\n",
    "    \"\"\"\n",
    "    \n",
    "\n",
    "    # Prepare the search query\n",
    "    search_query=state['search_query']\n",
    "    \n",
    "    # Call the Tavily search tool\n",
    "    search_docs = tavily_search.invoke(search_query)\n",
    "    \n",
    "    # Format\n",
    "    formatted_search_docs = \"\\n\\n---\\n\\n\".join(\n",
    "        [\n",
    "            f'<Document href=\"{doc[\"url\"]}\"/>\\n{doc[\"content\"]}\\n</Document>'\n",
    "            for doc in search_docs\n",
    "        ]\n",
    "    )\n",
    "\n",
    "    return {\"context\": [formatted_search_docs]} \n",
    "\n",
    "def search_wikipedia(state: InterviewState):\n",
    "    \"\"\"\n",
    "    Perform a Wikipedia search to retrieve relevant documents based on the analyst's persona and goals.\n",
    "    \"\"\"\n",
    "\n",
    "    # Prepare the search query\n",
    "    search_query=state['search_query']\n",
    "\n",
    "    loader = WikipediaLoader(query=search_query, load_max_docs=3)\n",
    "    docs = loader.load()\n",
    "    \n",
    "     # Format\n",
    "    formatted_search_docs = \"\\n\\n---\\n\\n\".join(\n",
    "        [\n",
    "            f'<Document source=\"{doc.metadata[\"source\"]}\" page=\"{doc.metadata.get(\"page\", \"\")}\"/>\\n{doc.page_content}\\n</Document>'\n",
    "            for doc in docs\n",
    "        ]\n",
    "    )\n",
    "\n",
    "    return {\"context\": [formatted_search_docs]} "
   ]
  },
  {
   "cell_type": "code",
   "execution_count": 156,
   "id": "dd8abe5f",
   "metadata": {},
   "outputs": [],
   "source": [
    "answer_instructions = \"\"\"You are an expert being interviewed by an analyst.\n",
    "\n",
    "Here is analyst area of focus: {goals}. \n",
    "        \n",
    "You goal is to answer a question posed by the interviewer.\n",
    "\n",
    "To answer question, use this context:\n",
    "        \n",
    "{context}\n",
    "\n",
    "When answering questions, follow these guidelines:\n",
    "        \n",
    "1. Use only the information provided in the context. \n",
    "        \n",
    "2. Do not introduce external information or make assumptions beyond what is explicitly stated in the context.\n",
    "\n",
    "3. The context contain sources at the topic of each individual document.\n",
    "\n",
    "4. Include these sources your answer next to any relevant statements. For example, for source # 1 use [1]. \n",
    "\n",
    "5. List your sources in order at the bottom of your answer. [1] Source 1, [2] Source 2, etc\n",
    "        \n",
    "6. If the source is: <Document source=\"assistant/docs/llama3_1.pdf\" page=\"7\"/>' then just list: \n",
    "        \n",
    "[1] assistant/docs/llama3_1.pdf, page 7 \n",
    "        \n",
    "And skip the addition of the brackets as well as the Document source preamble in your citation.\"\"\"\n",
    "\n",
    "def generate_answer(state: InterviewState):\n",
    "    \"\"\" Node to answer a question \"\"\"\n",
    "\n",
    "     # Get state\n",
    "    analyst = state[\"analyst\"]\n",
    "    messages = state[\"messages\"]\n",
    "    context = state[\"context\"]\n",
    "\n",
    "    # Answer question\n",
    "    system_message = answer_instructions.format(goals=analyst.persona, context=context)\n",
    "    answer = llm.invoke([SystemMessage(content=system_message)]+messages)\n",
    "            \n",
    "    # Name the message as coming from the expert\n",
    "    answer.name = \"expert\"\n",
    "    \n",
    "    # Append it to state\n",
    "    return {\"messages\": [answer]}"
   ]
  },
  {
   "cell_type": "code",
   "execution_count": null,
   "id": "3a475ee7",
   "metadata": {},
   "outputs": [],
   "source": [
    "from langchain_core.messages import get_buffer_string\n",
    "\n",
    "def save_interview(state: InterviewState):\n",
    "    \n",
    "    \"\"\" Save interviews \"\"\"\n",
    "\n",
    "    # Get messages\n",
    "    messages = state[\"messages\"]\n",
    "    \n",
    "    # Convert interview to a string\n",
    "    interview = get_buffer_string(messages)\n",
    "    \n",
    "    # Save to interviews key\n",
    "    return {\"interview\": interview}\n",
    "\n",
    "def route_messages(state: InterviewState, \n",
    "                   name: str = \"expert\"):\n",
    "\n",
    "    \"\"\" Route between question and answer \"\"\"\n",
    "    \n",
    "    # Get messages\n",
    "    messages = state[\"messages\"]\n",
    "    max_num_turns = state.get('max_num_turns',2)\n",
    "\n",
    "    # Check the number of expert answers \n",
    "    num_responses = len(\n",
    "        [m for m in messages if isinstance(m, AIMessage) and m.name == name]\n",
    "    )\n",
    "\n",
    "    # End if expert has answered more than the max turns\n",
    "    if num_responses >= max_num_turns:\n",
    "        return 'save_interview'\n",
    "\n",
    "    # This router is run after each question - answer pair \n",
    "    # Get the last question asked to check if it signals the end of discussion\n",
    "    last_question = messages[-2]\n",
    "    \n",
    "    if \"Thank you so much for your help\" in last_question.content:\n",
    "        return 'save_interview'\n",
    "    return \"ask_question\""
   ]
  },
  {
   "cell_type": "code",
   "execution_count": 158,
   "id": "aca26371",
   "metadata": {},
   "outputs": [],
   "source": [
    "section_writer_instructions = \"\"\"You are an expert technical writer. \n",
    "            \n",
    "Your task is to create a short, easily digestible section of a report based on a set of source documents.\n",
    "\n",
    "1. Analyze the content of the source documents: \n",
    "- The name of each source document is at the start of the document, with the <Document tag.\n",
    "        \n",
    "2. Create a report structure using markdown formatting:\n",
    "- Use ## for the section title\n",
    "- Use ### for sub-section headers\n",
    "        \n",
    "3. Write the report following this structure:\n",
    "a. Title (## header)\n",
    "b. Summary (### header)\n",
    "c. Sources (### header)\n",
    "\n",
    "4. Make your title engaging based upon the focus area of the analyst: \n",
    "{focus}\n",
    "\n",
    "5. For the summary section:\n",
    "- Set up summary with general background / context related to the focus area of the analyst\n",
    "- Emphasize what is novel, interesting, or surprising about insights gathered from the interview\n",
    "- Create a numbered list of source documents, as you use them\n",
    "- Do not mention the names of interviewers or experts\n",
    "- Aim for approximately 400 words maximum\n",
    "- Use numbered sources in your report (e.g., [1], [2]) based on information from source documents\n",
    "        \n",
    "6. In the Sources section:\n",
    "- Include all sources used in your report\n",
    "- Provide full links to relevant websites or specific document paths\n",
    "- Separate each source by a newline. Use two spaces at the end of each line to create a newline in Markdown.\n",
    "- It will look like:\n",
    "\n",
    "### Sources\n",
    "[1] Link or Document name\n",
    "[2] Link or Document name\n",
    "\n",
    "7. Be sure to combine sources. For example this is not correct:\n",
    "\n",
    "[3] https://ai.meta.com/blog/meta-llama-3-1/\n",
    "[4] https://ai.meta.com/blog/meta-llama-3-1/\n",
    "\n",
    "There should be no redundant sources. It should simply be:\n",
    "\n",
    "[3] https://ai.meta.com/blog/meta-llama-3-1/\n",
    "        \n",
    "8. Final review:\n",
    "- Ensure the report follows the required structure\n",
    "- Include no preamble before the title of the report\n",
    "- Check that all guidelines have been followed\"\"\"\n",
    "\n",
    "def write_section(state: InterviewState):\n",
    "\n",
    "    \"\"\" Node to answer a question \"\"\"\n",
    "\n",
    "    # Get state\n",
    "    interview = state[\"interview\"]\n",
    "    context = state[\"context\"]\n",
    "    analyst = state[\"analyst\"]\n",
    "   \n",
    "    # Write section using either the gathered source docs from interview (context) or the interview itself (interview)\n",
    "    system_message = section_writer_instructions.format(focus=analyst.description)\n",
    "    section = llm.invoke([\n",
    "    SystemMessage(content=system_message),\n",
    "    HumanMessage(content=f\"Use these sources: {context}\\n\\nAnd this expert interview: {interview}\")\n",
    "])              \n",
    "    # Append it to state\n",
    "    return {\"sections\": [section.content]}\n"
   ]
  },
  {
   "cell_type": "code",
   "execution_count": 159,
   "id": "3bc69c6a",
   "metadata": {},
   "outputs": [
    {
     "data": {
      "image/png": "[encoded data removed]",
      "text/plain": [
       "<IPython.core.display.Image object>"
      ]
     },
     "metadata": {},
     "output_type": "display_data"
    }
   ],
   "source": [
    "# Add nodes and edges \n",
    "interview_builder = StateGraph(InterviewState)\n",
    "interview_builder.add_node(\"ask_question\", generate_question)\n",
    "interview_builder.add_node(\"create_search_query\", create_search_query)\n",
    "interview_builder.add_node(\"web_search\", web_search)\n",
    "interview_builder.add_node(\"search_wikipedia\", search_wikipedia)\n",
    "interview_builder.add_node(\"generate_answer\", generate_answer)\n",
    "interview_builder.add_node(\"save_interview\", save_interview)\n",
    "interview_builder.add_node(\"write_section\", write_section)\n",
    "\n",
    "interview_builder.add_edge(START, \"ask_question\")\n",
    "interview_builder.add_edge(\"ask_question\", \"create_search_query\")\n",
    "interview_builder.add_edge(\"create_search_query\", \"web_search\")\n",
    "interview_builder.add_edge(\"create_search_query\", \"search_wikipedia\")\n",
    "interview_builder.add_edge(\"web_search\", \"generate_answer\")\n",
    "interview_builder.add_edge(\"search_wikipedia\", \"generate_answer\")\n",
    "interview_builder.add_conditional_edges('generate_answer', route_messages, [\"ask_question\", \"save_interview\"])\n",
    "interview_builder.add_edge(\"save_interview\", \"write_section\")\n",
    "interview_builder.add_edge(\"write_section\", END)\n",
    "# Compile the interview graph\n",
    "\n",
    "# Interview \n",
    "memory = MemorySaver()\n",
    "interview_graph = interview_builder.compile(checkpointer=memory).with_config(run_name=\"Conduct Interviews\")\n",
    "\n",
    "# View\n",
    "display(Image(interview_graph.get_graph().draw_mermaid_png()))"
   ]
  },
  {
   "cell_type": "code",
   "execution_count": 160,
   "id": "77d0aa74",
   "metadata": {},
   "outputs": [
    {
     "data": {
      "text/markdown": [
       "## The AI Revolution in France: Transforming Employment and Skills\n",
       "\n",
       "### Summary\n",
       "\n",
       "The integration of artificial intelligence (AI) into the job market is reshaping employment opportunities and skill requirements across various industries in France. This transformation is characterized by both the potential for job displacement and the creation of new job categories. As AI technologies continue to evolve, they are influencing the types of jobs available and the skills needed to remain competitive in the workforce.\n",
       "\n",
       "AI's impact on employment in France is nuanced. A study by Antonin Bergeaud highlights that while 20% of jobs could be heavily impacted by AI, the technology also presents significant opportunities for productivity gains and new job creation. Notably, only 5% of jobs in France are directly replaceable by AI, with automation potentially affecting between 10% and 20% of jobs [4]. This suggests that while some jobs may be at risk, AI is also driving the emergence of new roles and industries.\n",
       "\n",
       "Industries such as manufacturing, professional services, financial services, and information and communication are experiencing significant changes due to AI integration. The manufacturing sector, despite a decrease in job postings, remains the largest seeker of employees over the past five years. This indicates a shift in the skill mix required for these jobs, as AI technologies alter traditional roles [5]. Similarly, the professional services and financial sectors are seeing a notable share of AI-related job postings, reflecting a demand for new skills in these industries [5].\n",
       "\n",
       "New job categories are emerging as a result of AI integration, particularly in fields requiring specialized skills in AI and related technologies. Roles such as AI specialists, machine learning engineers, and data scientists are in high demand, focusing on developing AI models, analyzing data, and implementing AI solutions across sectors [6]. Additionally, there is a growing need for professionals who can bridge the gap between AI technology and business needs, such as AI project managers and AI ethicists [6].\n",
       "\n",
       "To remain competitive in the evolving job market, workers must develop expertise in AI, cybersecurity, software development, and data analysis. Skills in cloud computing and robotics are also becoming crucial as these technologies are closely linked with AI advancements. Moreover, soft skills such as problem-solving, critical thinking, and adaptability are essential for navigating the rapidly changing job landscape [7][8].\n",
       "\n",
       "Overall, the integration of AI in France is leading to a transformation in employment opportunities and skill requirements, emphasizing the importance of training and the inclusion of staff representatives to support this transition [4].\n",
       "\n",
       "### Sources\n",
       "[4] https://www.hec.edu/en/how-ai-really-impacting-jobs-nuanced-approach  \n",
       "[5] https://www.pwc.com/gx/en/issues/artificial-intelligence/job-barometer/countries/pwc-ai-jobs-barometer-france.pdf  \n",
       "[6] https://www.qureos.com/hiring-guide/impact-of-ai-on-job-creation-by-country  \n",
       "[7] https://www.edstellar.com/blog/skills-in-demand-in-france  \n",
       "[8] https://www.nucamp.co/blog/coding-bootcamp-france-fra-top-10-essential-tech-skills-france-employers-seek-in-2025  "
      ],
      "text/plain": [
       "<IPython.core.display.Markdown object>"
      ]
     },
     "execution_count": 160,
     "metadata": {},
     "output_type": "execute_result"
    }
   ],
   "source": [
    "# testing with one analyst interview\n",
    "\n",
    "from IPython.display import Markdown\n",
    "messages = [HumanMessage(f\"So you said you were writing an article on {topic}?\")]\n",
    "thread = {\"configurable\": {\"thread_id\": \"1\"}}\n",
    "interview = interview_graph.invoke({\"analyst\": analysts[0], \"messages\": messages, \"max_num_turns\": 2}, thread)\n",
    "Markdown(interview['sections'][0])"
   ]
  },
  {
   "cell_type": "markdown",
   "id": "337ecb6a",
   "metadata": {},
   "source": [
    "### Parallelze interviews: Map-Reduce\n",
    "\n",
    "We parallelize the interviews via the `Send()` API, a map step.\n",
    "\n",
    "We combine them into the report body in a reduce step.\n",
    "\n",
    "### Finalize\n",
    "\n",
    "We add a final step to write an intro and conclusion to the final report."
   ]
  },
  {
   "cell_type": "markdown",
   "id": "6795c8c7",
   "metadata": {},
   "source": [
    "import operator\n",
    "from typing import List, Annotated\n",
    "from typing_extensions import TypedDict\n",
    "\n",
    "class ResearchGraphState(TypedDict):\n",
    "    topic: str # Research topic\n",
    "    max_analysts: int # Number of analysts\n",
    "    human_analyst_feedback: str # Human feedback\n",
    "    analysts: List[Analyst] # Analyst asking questions\n",
    "    sections: Annotated[list, operator.add] # Send() API key\n",
    "    introduction: str # Introduction for the final report\n",
    "    content: str # Content for the final report\n",
    "    conclusion: str # Conclusion for the final report\n",
    "    final_report: str # Final report"
   ]
  },
  {
   "cell_type": "markdown",
   "id": "f4a3e4a5",
   "metadata": {},
   "source": []
  },
  {
   "cell_type": "code",
   "execution_count": 163,
   "id": "d834509c",
   "metadata": {},
   "outputs": [],
   "source": [
    "import operator\n",
    "from typing import List, Annotated\n",
    "from typing_extensions import TypedDict\n",
    "\n",
    "class ResearchGraphState(TypedDict):\n",
    "    topic: str # Research topic\n",
    "    max_analysts: int # Number of analysts\n",
    "    human_analyst_feedback: str # Human feedback\n",
    "    analysts: List[Analyst] # Analyst asking questions\n",
    "    sections: Annotated[list, operator.add] # Send() API key\n",
    "    introduction: str # Introduction for the final report\n",
    "    content: str # Content for the final report\n",
    "    conclusion: str # Conclusion for the final report\n",
    "    final_report: str # Final report"
   ]
  },
  {
   "cell_type": "code",
   "execution_count": 164,
   "id": "a7f40fef",
   "metadata": {},
   "outputs": [],
   "source": [
    "from langgraph.constants import Send\n",
    "\n",
    "def initiate_all_interviews(state: ResearchGraphState):\n",
    "    \"\"\" This is the \"map\" step where we run each interview sub-graph using Send API \"\"\"    \n",
    "\n",
    "    # Check if human feedback\n",
    "    human_analyst_feedback=state.get('human_analyst_feedback')\n",
    "    if human_analyst_feedback:\n",
    "        # Return to create_analysts\n",
    "        return \"create_analysts\"\n",
    "\n",
    "    # Otherwise kick off interviews in parallel via Send() API\n",
    "    else:\n",
    "        topic = state[\"topic\"]\n",
    "        return [Send(\"conduct_interview\", {\"analyst\": analyst,\n",
    "                                           \"messages\": [HumanMessage(\n",
    "                                               content=f\"So you said you were writing an article on {topic}?\"\n",
    "                                           )\n",
    "                                                       ]}) for analyst in state[\"analysts\"]]"
   ]
  },
  {
   "cell_type": "code",
   "execution_count": 175,
   "id": "0f5659b3",
   "metadata": {},
   "outputs": [
    {
     "data": {
      "image/png": "[encoded data removed]",
      "text/plain": [
       "<IPython.core.display.Image object>"
      ]
     },
     "metadata": {},
     "output_type": "display_data"
    }
   ],
   "source": [
    "report_writer_instructions = \"\"\"You are a technical writer creating a report on this overall topic: \n",
    "\n",
    "{topic}\n",
    "    \n",
    "You have a team of analysts. Each analyst has done two things: \n",
    "\n",
    "1. They conducted an interview with an expert on a specific sub-topic.\n",
    "2. They write up their finding into a memo.\n",
    "\n",
    "Your task: \n",
    "\n",
    "1. You will be given a collection of memos from your analysts.\n",
    "2. Think carefully about the insights from each memo.\n",
    "3. Consolidate these into a crisp overall summary that ties together the central ideas from all of the memos. \n",
    "4. Summarize the central points in each memo into a cohesive single narrative.\n",
    "\n",
    "To format your report:\n",
    " \n",
    "1. Use markdown formatting. \n",
    "2. Include no pre-amble for the report.\n",
    "3. Use no sub-heading. \n",
    "4. Start your report with a single title header: ## Insights\n",
    "5. Do not mention any analyst names in your report.\n",
    "6. Preserve any citations in the memos, which will be annotated in brackets, for example [1] or [2].\n",
    "7. Create a final, consolidated list of sources and add to a Sources section with the `## Sources` header.\n",
    "8. List your sources in order and do not repeat.\n",
    "\n",
    "[1] Source 1\n",
    "[2] Source 2\n",
    "\n",
    "Here are the memos from your analysts to build your report from: \n",
    "\n",
    "{context}\"\"\"\n",
    "\n",
    "def write_report(state: ResearchGraphState):\n",
    "    # Full set of sections\n",
    "    sections = state[\"sections\"]\n",
    "    topic = state[\"topic\"]\n",
    "\n",
    "    # Concat all sections together\n",
    "    formatted_str_sections = \"\\n\\n\".join([f\"{section}\" for section in sections])\n",
    "    \n",
    "    # Summarize the sections into a final report\n",
    "    system_message = report_writer_instructions.format(topic=topic, context=formatted_str_sections)    \n",
    "    report = llm.invoke([SystemMessage(content=system_message)]+[HumanMessage(content=f\"Write a report based upon these memos.\")]) \n",
    "    return {\"content\": report.content}\n",
    "\n",
    "intro_conclusion_instructions = \"\"\"You are a technical writer finishing a report on {topic}\n",
    "\n",
    "You will be given all of the sections of the report.\n",
    "\n",
    "You job is to write a crisp and compelling introduction or conclusion section.\n",
    "\n",
    "The user will instruct you whether to write the introduction or conclusion.\n",
    "\n",
    "Include no pre-amble for either section.\n",
    "\n",
    "Target around 100 words, crisply previewing (for introduction) or recapping (for conclusion) all of the sections of the report.\n",
    "\n",
    "Use markdown formatting. \n",
    "\n",
    "For your introduction, create a compelling title and use the # header for the title.\n",
    "\n",
    "For your introduction, use ## Introduction as the section header. \n",
    "\n",
    "For your conclusion, use ## Conclusion as the section header.\n",
    "\n",
    "Here are the sections to reflect on for writing: {formatted_str_sections}\"\"\"\n",
    "\n",
    "def write_introduction(state: ResearchGraphState):\n",
    "    # Full set of sections\n",
    "    sections = state[\"sections\"]\n",
    "    topic = state[\"topic\"]\n",
    "\n",
    "    # Concat all sections together\n",
    "    formatted_str_sections = \"\\n\\n\".join([f\"{section}\" for section in sections])\n",
    "    \n",
    "    # Summarize the sections into a final report\n",
    "    \n",
    "    instructions = intro_conclusion_instructions.format(topic=topic, formatted_str_sections=formatted_str_sections)    \n",
    "    intro = llm.invoke([instructions]+[HumanMessage(content=f\"Write the report introduction\")]) \n",
    "    return {\"introduction\": intro.content}\n",
    "\n",
    "def write_conclusion(state: ResearchGraphState):\n",
    "    # Full set of sections\n",
    "    sections = state[\"sections\"]\n",
    "    topic = state[\"topic\"]\n",
    "\n",
    "    # Concat all sections together\n",
    "    formatted_str_sections = \"\\n\\n\".join([f\"{section}\" for section in sections])\n",
    "    \n",
    "    # Summarize the sections into a final report\n",
    "    \n",
    "    instructions = intro_conclusion_instructions.format(topic=topic, formatted_str_sections=formatted_str_sections)    \n",
    "    conclusion = llm.invoke([instructions]+[HumanMessage(content=f\"Write the report conclusion\")]) \n",
    "    return {\"conclusion\": conclusion.content}\n",
    "\n",
    "def finalize_report(state: ResearchGraphState):\n",
    "    \"\"\" The is the \"reduce\" step where we gather all the sections, combine them, and reflect on them to write the intro/conclusion \"\"\"\n",
    "    # Save full final report\n",
    "    content = state[\"content\"]\n",
    "    if content.startswith(\"## Insights\"):\n",
    "        content = content.strip(\"## Insights\")\n",
    "    if \"## Sources\" in content:\n",
    "        try:\n",
    "            content, sources = content.split(\"\\n## Sources\\n\")\n",
    "        except:\n",
    "            sources = None\n",
    "    else:\n",
    "        sources = None\n",
    "\n",
    "    final_report = state[\"introduction\"] + \"\\n\\n---\\n\\n\" + content + \"\\n\\n---\\n\\n\" + state[\"conclusion\"]\n",
    "    if sources is not None:\n",
    "        final_report += \"\\n\\n## Sources\\n\" + sources\n",
    "    return {\"final_report\": final_report}\n",
    "\n",
    "# Add nodes and edges \n",
    "builder = StateGraph(ResearchGraphState)\n",
    "\n",
    "builder.add_node(\"create_analysts\", create_analysts)\n",
    "builder.add_node('human_feedback', human_feedback)\n",
    "builder.add_node(\"conduct_interview\", interview_builder.compile())\n",
    "builder.add_node(\"write_report\",write_report)\n",
    "builder.add_node(\"write_introduction\",write_introduction)\n",
    "builder.add_node(\"write_conclusion\",write_conclusion)\n",
    "builder.add_node(\"finalize_report\",finalize_report)\n",
    "\n",
    "builder.add_edge(START, \"create_analysts\")\n",
    "builder.add_edge(\"create_analysts\", \"human_feedback\")\n",
    "builder.add_conditional_edges('human_feedback', initiate_all_interviews, [\"create_analysts\", \"conduct_interview\"])\n",
    "builder.add_edge(\"conduct_interview\", \"write_report\")\n",
    "builder.add_edge(\"conduct_interview\", \"write_introduction\")\n",
    "builder.add_edge(\"conduct_interview\", \"write_conclusion\")\n",
    "builder.add_edge([\"write_conclusion\", \"write_report\", \"write_introduction\"], \"finalize_report\")\n",
    "builder.add_edge(\"finalize_report\", END)\n",
    "\n",
    "# Compile\n",
    "memory = MemorySaver()\n",
    "graph = builder.compile(interrupt_before=['human_feedback'], checkpointer=memory)\n",
    "display(Image(graph.get_graph(xray=1).draw_mermaid_png()))"
   ]
  },
  {
   "cell_type": "code",
   "execution_count": 176,
   "id": "20f7cf4d",
   "metadata": {},
   "outputs": [
    {
     "name": "stdout",
     "output_type": "stream",
     "text": [
      "Name: Dr. Emily Carter\n",
      "Affiliation: Tech Innovators Inc.\n",
      "Role: Technology Adoption Specialist\n",
      "Description: Dr. Carter focuses on the strategic benefits of adopting new technologies in business environments. She is particularly interested in how LangGraph can streamline operations and improve efficiency in agent-based systems.\n",
      "--------------------------------------------------\n",
      "Name: Raj Patel\n",
      "Affiliation: AI Ethics Consortium\n",
      "Role: Ethical AI Analyst\n",
      "Description: Raj Patel examines the ethical implications of AI frameworks. His focus is on ensuring that LangGraph's adoption aligns with ethical standards and promotes transparency and fairness in AI systems.\n",
      "--------------------------------------------------\n",
      "Name: Dr. Sophia Nguyen\n",
      "Affiliation: Data Science Research Lab\n",
      "Role: Data Integration Expert\n",
      "Description: Dr. Nguyen specializes in data integration and interoperability within AI systems. She is interested in how LangGraph facilitates seamless data exchange and integration across different platforms and systems.\n",
      "--------------------------------------------------\n"
     ]
    }
   ],
   "source": [
    "# Inputs\n",
    "max_analysts = 3 \n",
    "topic = \"The benefits of adopting LangGraph as an agent framework\"\n",
    "thread = {\"configurable\": {\"thread_id\": \"1\"}}\n",
    "\n",
    "# Run the graph until the first interruption\n",
    "for event in graph.stream({\"topic\":topic,\n",
    "                           \"max_analysts\":max_analysts}, \n",
    "                          thread, \n",
    "                          stream_mode=\"values\"):\n",
    "    \n",
    "    analysts = event.get('analysts', '')\n",
    "    if analysts:\n",
    "        for analyst in analysts:\n",
    "            print(f\"Name: {analyst.name}\")\n",
    "            print(f\"Affiliation: {analyst.affiliation}\")\n",
    "            print(f\"Role: {analyst.role}\")\n",
    "            print(f\"Description: {analyst.description}\")\n",
    "            print(\"-\" * 50)  "
   ]
  },
  {
   "cell_type": "code",
   "execution_count": 177,
   "id": "e79e908e",
   "metadata": {},
   "outputs": [
    {
     "data": {
      "text/plain": [
       "{'configurable': {'thread_id': '1', 'checkpoint_ns': '', 'checkpoint_id': '1f04ef20-53de-664e-8002-0e0d0b1cdfc1'}}"
      ]
     },
     "execution_count": 177,
     "metadata": {},
     "output_type": "execute_result"
    }
   ],
   "source": [
    "graph.update_state(\n",
    "    thread,\n",
    "    {\n",
    "        \"human_analyst_feedback\": \"The analysts should also focus more comparing LangGraph to other agent frameworks like n8n, LangChain, and LlamaIndex.\"\n",
    "    },\n",
    "    as_node=\"human_feedback\"\n",
    ")"
   ]
  },
  {
   "cell_type": "code",
   "execution_count": 178,
   "id": "dbacc002",
   "metadata": {},
   "outputs": [
    {
     "name": "stdout",
     "output_type": "stream",
     "text": [
      "Name: Dr. Emily Carter\n",
      "Affiliation: Tech Innovators Inc.\n",
      "Role: Technology Adoption Specialist\n",
      "Description: Dr. Carter focuses on the strategic benefits of adopting new technologies in business environments. She is particularly interested in how LangGraph can streamline operations and improve efficiency in agent-based systems.\n",
      "--------------------------------------------------\n",
      "Name: Raj Patel\n",
      "Affiliation: AI Ethics Consortium\n",
      "Role: Ethical AI Analyst\n",
      "Description: Raj Patel examines the ethical implications of AI frameworks. His focus is on ensuring that LangGraph's adoption aligns with ethical standards and promotes transparency and fairness in AI systems.\n",
      "--------------------------------------------------\n",
      "Name: Dr. Sophia Nguyen\n",
      "Affiliation: Data Science Research Lab\n",
      "Role: Data Integration Expert\n",
      "Description: Dr. Nguyen specializes in data integration and interoperability within AI systems. She is interested in how LangGraph facilitates seamless data exchange and integration across different platforms and systems.\n",
      "--------------------------------------------------\n",
      "Name: Dr. Emily Carter\n",
      "Affiliation: Tech Innovators Inc.\n",
      "Role: Comparative Framework Analyst\n",
      "Description: Dr. Carter focuses on evaluating and comparing different agent frameworks, including LangGraph, n8n, LangChain, and LlamaIndex. Her primary concern is understanding the unique features and advantages of each framework to provide insights into their best use cases.\n",
      "--------------------------------------------------\n",
      "Name: Mr. Raj Patel\n",
      "Affiliation: AI Solutions Group\n",
      "Role: Performance and Efficiency Analyst\n",
      "Description: Mr. Patel is dedicated to analyzing the performance and efficiency of agent frameworks. He is particularly interested in how LangGraph optimizes resource usage and execution speed compared to its competitors.\n",
      "--------------------------------------------------\n",
      "Name: Dr. Sarah Lee\n",
      "Affiliation: Future Tech Research Lab\n",
      "Role: User Experience and Accessibility Analyst\n",
      "Description: Dr. Lee examines the user experience and accessibility aspects of agent frameworks. She is focused on how LangGraph improves or challenges user interaction compared to other frameworks, ensuring that it meets diverse user needs.\n",
      "--------------------------------------------------\n"
     ]
    }
   ],
   "source": [
    "# Check\n",
    "for event in graph.stream(None, thread, stream_mode=\"values\"):\n",
    "    analysts = event.get('analysts', '')\n",
    "    if analysts:\n",
    "        for analyst in analysts:\n",
    "            print(f\"Name: {analyst.name}\")\n",
    "            print(f\"Affiliation: {analyst.affiliation}\")\n",
    "            print(f\"Role: {analyst.role}\")\n",
    "            print(f\"Description: {analyst.description}\")\n",
    "            print(\"-\" * 50)  "
   ]
  },
  {
   "cell_type": "code",
   "execution_count": 179,
   "id": "43ba95ef",
   "metadata": {},
   "outputs": [],
   "source": [
    "state=graph.get_state(thread)"
   ]
  },
  {
   "cell_type": "code",
   "execution_count": 180,
   "id": "687fadf6",
   "metadata": {},
   "outputs": [
    {
     "data": {
      "text/plain": [
       "('human_feedback',)"
      ]
     },
     "execution_count": 180,
     "metadata": {},
     "output_type": "execute_result"
    }
   ],
   "source": [
    "state.next"
   ]
  },
  {
   "cell_type": "code",
   "execution_count": 181,
   "id": "8f04dce2",
   "metadata": {},
   "outputs": [
    {
     "data": {
      "text/plain": [
       "{'configurable': {'thread_id': '1', 'checkpoint_ns': '', 'checkpoint_id': '1f04ef21-3f8c-651e-8004-db7f696e3c9e'}}"
      ]
     },
     "execution_count": 181,
     "metadata": {},
     "output_type": "execute_result"
    }
   ],
   "source": [
    "# Confirm we are happy\n",
    "graph.update_state(thread, {\"human_analyst_feedback\": \n",
    "                            None}, as_node=\"human_feedback\")"
   ]
  },
  {
   "cell_type": "code",
   "execution_count": 182,
   "id": "18d2a129",
   "metadata": {},
   "outputs": [
    {
     "name": "stdout",
     "output_type": "stream",
     "text": [
      "--Node--\n",
      "conduct_interview\n",
      "--Node--\n",
      "conduct_interview\n",
      "--Node--\n",
      "conduct_interview\n",
      "--Node--\n",
      "write_introduction\n",
      "--Node--\n",
      "write_conclusion\n",
      "--Node--\n",
      "write_report\n",
      "--Node--\n",
      "finalize_report\n"
     ]
    }
   ],
   "source": [
    "# Continue\n",
    "for event in graph.stream(None, thread, stream_mode=\"updates\"):\n",
    "    print(\"--Node--\")\n",
    "    node_name = next(iter(event.keys()))\n",
    "    print(node_name)"
   ]
  },
  {
   "cell_type": "code",
   "execution_count": 183,
   "id": "6216a858",
   "metadata": {},
   "outputs": [
    {
     "data": {
      "text/markdown": [
       "# The Benefits of Adopting LangGraph as an Agent Framework\n",
       "\n",
       "## Introduction\n",
       "\n",
       "In the dynamic realm of AI agent frameworks, selecting the right tool is pivotal for optimizing performance and efficiency. This report evaluates four leading frameworks: LangGraph, n8n, LangChain, and LlamaIndex, each offering unique advantages. LangGraph stands out with its graph-based workflows, excelling in scalability and complex task orchestration. It is particularly effective for structured reasoning and long-running applications. In contrast, n8n is celebrated for its extensive integrations and user-friendly interface, ideal for rapid deployment. LangChain and LlamaIndex cater to specialized tasks but lack LangGraph's orchestration prowess. This analysis highlights LangGraph's transformative potential in enhancing AI workflows.\n",
       "\n",
       "---\n",
       "\n",
       "\n",
       "\n",
       "In the dynamic field of AI agent frameworks, LangGraph stands out as a robust solution, offering significant advantages in performance, efficiency, and user experience. This report synthesizes insights from expert analyses, highlighting LangGraph's unique features and its comparative strengths against other frameworks like n8n, LangChain, and LlamaIndex.\n",
       "\n",
       "LangGraph is particularly distinguished by its graph-based workflows, which are designed for structured reasoning and complex, long-running applications. This framework excels in scalability, handling high concurrency, maintaining persistent state, and supporting highly customized workflows. It is especially beneficial in orchestrating teams of specialist agents for complex tasks, where multiple agents handle different parts of a problem [3][4]. LangGraph's ability to create and manage cyclical graphs for agent runtimes allows agents to revisit previous steps and adapt to changing conditions, enhancing dynamic and flexible workflows [1]. This capability is crucial for developing sophisticated agent runtimes, enabling more dynamic and flexible workflows compared to traditional linear processes [1].\n",
       "\n",
       "In terms of user experience and accessibility, LangGraph offers resilience and persistence capabilities that are essential for \"real\" agents requiring durability, versioning, and granular control. This ensures that agents can survive failures, resume operations, and maintain state across extended periods, which is vital for complex workflows [3]. LangGraph also provides total control and customization, allowing users to implement business rules, custom integrations, audit trails, and security guardrails, which might not be as easily achievable with n8n's more visual, low-code approach [3]. This level of customization is advantageous for users who need to incorporate specific business logic or security measures.\n",
       "\n",
       "While n8n is renowned for its extensive integrations and user-friendly interface, making it ideal for rapid prototyping and integration, LangGraph's capabilities in resilience and customization offer distinct advantages for more complex and durable agent workflows [1][2]. LangChain and LlamaIndex serve well for specialized tasks but may not match the orchestration capabilities of LangGraph [1][2][3][4].\n",
       "\n",
       "A compelling real-world application of LangGraph is its implementation in a customer support system for a leading e-commerce company. By leveraging LangGraph's cyclical graphs, the company efficiently managed a high volume of inquiries across multiple product categories, allowing for dynamic adjustments and iterative reasoning, significantly enhancing the system's ability to provide accurate and timely responses to customer queries [3].\n",
       "\n",
       "Overall, LangGraph's innovative features and proven real-world applications make it a compelling choice for developers seeking to build efficient and high-performing agent frameworks. Its ability to optimize resource usage and execution speed positions LangGraph as a leader in the field of AI agent frameworks.\n",
       "\n",
       "\n",
       "---\n",
       "\n",
       "## Conclusion\n",
       "\n",
       "In the dynamic realm of AI agent frameworks, LangGraph stands out as a transformative solution, offering unparalleled scalability and efficiency for complex workflows. This report has highlighted LangGraph's unique graph-based approach, which excels in structured reasoning and handling high concurrency, making it ideal for orchestrating multi-agent systems. Compared to n8n, LangChain, and LlamaIndex, LangGraph provides superior resilience, customization, and state management, crucial for long-running applications. While n8n offers ease of integration and rapid deployment, and LangChain and LlamaIndex cater to specialized tasks, LangGraph's innovative features and real-world applications position it as a leader in enhancing user experience and accessibility in agent frameworks.\n",
       "\n",
       "## Sources\n",
       "[1] https://blog.n8n.io/llamaindex-vs-langchain/  \n",
       "[2] https://www.linkedin.com/pulse/langchainlanggraph-vs-n8n-which-better-orchestrating-llm-warick-v3lxf  \n",
       "[3] https://www.analyticsvidhya.com/blog/2025/06/n8n-vs-langgraph/  \n",
       "[4] https://www.ionio.ai/blog/the-state-of-ai-agent-platforms-in-2025-comparative-analysis  \n",
       "[5] https://medium.com/@mohitcharan04/comprehensive-comparison-of-ai-agent-frameworks-bec7d25df8a6  \n",
       "[6] https://ragaboutit.com/mastering-langgraph-a-production-ready-coding-walkthrough-for-software-engineer"
      ],
      "text/plain": [
       "<IPython.core.display.Markdown object>"
      ]
     },
     "execution_count": 183,
     "metadata": {},
     "output_type": "execute_result"
    }
   ],
   "source": [
    "from IPython.display import Markdown\n",
    "final_state = graph.get_state(thread)\n",
    "report = final_state.values.get('final_report')\n",
    "Markdown(report)"
   ]
  },
  {
   "cell_type": "code",
   "execution_count": null,
   "id": "ef9c5179",
   "metadata": {},
   "outputs": [],
   "source": []
  }
 ],
 "metadata": {
  "kernelspec": {
   "display_name": "Research_Assistant_LangGraph",
   "language": "python",
   "name": "python3"
  },
  "language_info": {
   "codemirror_mode": {
    "name": "ipython",
    "version": 3
   },
   "file_extension": ".py",
   "mimetype": "text/x-python",
   "name": "python",
   "nbconvert_exporter": "python",
   "pygments_lexer": "ipython3",
   "version": "3.12.4"
  }
 },
 "nbformat": 4,
 "nbformat_minor": 5
}
